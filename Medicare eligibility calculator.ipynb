{
 "cells": [
  {
   "cell_type": "code",
   "execution_count": 1,
   "id": "d70f5cc5-bc0a-4cde-881c-15f13959aaa1",
   "metadata": {},
   "outputs": [
    {
     "name": "stdin",
     "output_type": "stream",
     "text": [
      "Enter age of the patient: 55\n"
     ]
    },
    {
     "name": "stdout",
     "output_type": "stream",
     "text": [
      "The patient is not eligible for Medicare\n"
     ]
    }
   ],
   "source": [
    "#control structures practicing imagining myself preparing a Medicare insurance eligibility \n",
    "age = int(input(\"Enter age of the patient:\"))\n",
    "#age of patient at a hospital\n",
    "\n",
    "if age >= 65:\n",
    "    print (\"The patient is eligible for Medicare\")\n",
    "else:\n",
    "    print (\"The patient is not eligible for Medicare\")"
   ]
  }
 ],
 "metadata": {
  "kernelspec": {
   "display_name": "Python [conda env:base] *",
   "language": "python",
   "name": "conda-base-py"
  },
  "language_info": {
   "codemirror_mode": {
    "name": "ipython",
    "version": 3
   },
   "file_extension": ".py",
   "mimetype": "text/x-python",
   "name": "python",
   "nbconvert_exporter": "python",
   "pygments_lexer": "ipython3",
   "version": "3.12.7"
  }
 },
 "nbformat": 4,
 "nbformat_minor": 5
}
