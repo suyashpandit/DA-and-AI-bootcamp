{
 "cells": [
  {
   "cell_type": "code",
   "execution_count": 1,
   "id": "c59bee87-46e7-42a1-b019-01f341fb4de7",
   "metadata": {},
   "outputs": [
    {
     "name": "stdin",
     "output_type": "stream",
     "text": [
      "enter the number: 55.2\n"
     ]
    },
    {
     "name": "stdout",
     "output_type": "stream",
     "text": [
      "please enter a whole number\n"
     ]
    }
   ],
   "source": [
    "#even or odd calculator with float number using 2 conditionals\n",
    "\n",
    "num1 = float(input (\"enter the number:\")) #user can enter float too, but i need to find it and give a message\n",
    "if num1.is_integer(): #now checking if the number entered is float or integer \n",
    "    num1=int(num1) #float changed to integer\n",
    "    if num1 % 2 == 0:\n",
    "        print (\"the number is even\")\n",
    "    else:\n",
    "        print (\"the number is odd\")\n",
    "else:\n",
    "    print (\"please enter a whole number\") #used 2 conditionals together"
   ]
  }
 ],
 "metadata": {
  "kernelspec": {
   "display_name": "Python [conda env:base] *",
   "language": "python",
   "name": "conda-base-py"
  },
  "language_info": {
   "codemirror_mode": {
    "name": "ipython",
    "version": 3
   },
   "file_extension": ".py",
   "mimetype": "text/x-python",
   "name": "python",
   "nbconvert_exporter": "python",
   "pygments_lexer": "ipython3",
   "version": "3.12.7"
  }
 },
 "nbformat": 4,
 "nbformat_minor": 5
}
