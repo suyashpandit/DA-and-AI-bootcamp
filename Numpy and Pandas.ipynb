{
 "cells": [
  {
   "cell_type": "code",
   "execution_count": 1,
   "id": "d3769e2d-4f35-45c3-b537-171baf6d9753",
   "metadata": {},
   "outputs": [],
   "source": [
    "import numpy #why importing this library #numericalpython-->numpy"
   ]
  },
  {
   "cell_type": "code",
   "execution_count": 2,
   "id": "cd1ff6d4-b5e2-47a8-8268-b87011d5190e",
   "metadata": {},
   "outputs": [
    {
     "name": "stdout",
     "output_type": "stream",
     "text": [
      "1.26.4\n"
     ]
    }
   ],
   "source": [
    "print (numpy.__version__)"
   ]
  },
  {
   "cell_type": "code",
   "execution_count": 18,
   "id": "559dee39-2059-4a48-b5a0-06dfe03e6cf2",
   "metadata": {},
   "outputs": [
    {
     "name": "stdout",
     "output_type": "stream",
     "text": [
      "2.2.2\n"
     ]
    }
   ],
   "source": [
    "print (pandas.__version__) #checking name error -->variable is not defined and you get name error as pandas is not imported"
   ]
  },
  {
   "cell_type": "code",
   "execution_count": 4,
   "id": "9f8f1074-8f59-422c-8c6d-fd36da7d8ce8",
   "metadata": {},
   "outputs": [],
   "source": [
    "#pandas is not imported"
   ]
  },
  {
   "cell_type": "code",
   "execution_count": 5,
   "id": "2b77da29-537e-4f6e-ab9d-9f20396b705a",
   "metadata": {},
   "outputs": [],
   "source": [
    "import pandas #why importing this library"
   ]
  },
  {
   "cell_type": "code",
   "execution_count": 6,
   "id": "e8c19d68-23f6-425c-87c9-b88075d2236d",
   "metadata": {},
   "outputs": [
    {
     "name": "stdout",
     "output_type": "stream",
     "text": [
      "2.2.2\n"
     ]
    }
   ],
   "source": [
    "print (pandas.__version__)"
   ]
  },
  {
   "cell_type": "code",
   "execution_count": 7,
   "id": "a71292d2-29e5-496f-b36e-5963e6cd9d6e",
   "metadata": {},
   "outputs": [],
   "source": [
    "#Suyash Pandit as [aliasing] as Ash --> giving a short name --> alias like of spies"
   ]
  },
  {
   "cell_type": "code",
   "execution_count": 8,
   "id": "8d79d1c3-1390-4a3e-8405-cc24841f99f3",
   "metadata": {},
   "outputs": [],
   "source": [
    "#numpy alias as np\n",
    "#pandas alias as pd --> is helpful as language for the community"
   ]
  },
  {
   "cell_type": "code",
   "execution_count": 9,
   "id": "3f377bbb-727a-4bd8-93f8-e4c4c22256e3",
   "metadata": {},
   "outputs": [],
   "source": [
    "import pandas as pd"
   ]
  },
  {
   "cell_type": "code",
   "execution_count": 10,
   "id": "9ada0114-8eb1-444c-ac40-192d64eff711",
   "metadata": {},
   "outputs": [
    {
     "name": "stdout",
     "output_type": "stream",
     "text": [
      "2.2.2\n"
     ]
    }
   ],
   "source": [
    "print (pd.__version__)"
   ]
  },
  {
   "cell_type": "code",
   "execution_count": 13,
   "id": "427f56f0-f413-4b19-a997-3bfb25e6d7ae",
   "metadata": {},
   "outputs": [],
   "source": [
    "import numpy as np"
   ]
  },
  {
   "cell_type": "code",
   "execution_count": 15,
   "id": "aab4b76a-a5e8-4d94-9b15-07814824ba9d",
   "metadata": {},
   "outputs": [
    {
     "name": "stdout",
     "output_type": "stream",
     "text": [
      "[1 2 3 4 5 6]\n"
     ]
    }
   ],
   "source": [
    "#creating a simple 1D array np.array()\n",
    "# assuming this is a list of values i need to convert into numpy array [1,2,3,4,5,6]\n",
    "np_arr1 = np.array ([1,2,3,4,5,6])\n",
    "print (np_arr1)"
   ]
  },
  {
   "cell_type": "code",
   "execution_count": 16,
   "id": "9492a855-0bac-48f4-8119-c7940033f582",
   "metadata": {},
   "outputs": [
    {
     "data": {
      "text/plain": [
       "array([1, 2, 3, 4, 5, 6])"
      ]
     },
     "execution_count": 16,
     "metadata": {},
     "output_type": "execute_result"
    }
   ],
   "source": [
    "np.array ([1,2,3,4,5,6])"
   ]
  },
  {
   "cell_type": "code",
   "execution_count": 17,
   "id": "8c5204c2-47e8-4b97-b217-ec9142ce0f58",
   "metadata": {},
   "outputs": [
    {
     "name": "stdout",
     "output_type": "stream",
     "text": [
      "[1 2 3 4 5 6]\n"
     ]
    }
   ],
   "source": [
    "print (np.array ([1,2,3,4,5,6]))"
   ]
  },
  {
   "cell_type": "code",
   "execution_count": 19,
   "id": "f728b1cc-45c9-402f-9cd3-b4305cce832b",
   "metadata": {},
   "outputs": [
    {
     "name": "stdout",
     "output_type": "stream",
     "text": [
      "[1 2 3]\n"
     ]
    }
   ],
   "source": [
    "#array properties\n",
    "arr1 = np.array([1,2,3])\n",
    "print (arr1)"
   ]
  },
  {
   "cell_type": "code",
   "execution_count": 29,
   "id": "1ce7bc48-f407-441a-9544-37a9849b0879",
   "metadata": {},
   "outputs": [
    {
     "data": {
      "text/plain": [
       "1"
      ]
     },
     "execution_count": 29,
     "metadata": {},
     "output_type": "execute_result"
    }
   ],
   "source": [
    "arr1.ndim #checking the number of dimensions\n"
   ]
  },
  {
   "cell_type": "code",
   "execution_count": 30,
   "id": "68eaad45-a7f1-44cf-8cf7-63d9c37eb5ce",
   "metadata": {},
   "outputs": [
    {
     "data": {
      "text/plain": [
       "(3,)"
      ]
     },
     "execution_count": 30,
     "metadata": {},
     "output_type": "execute_result"
    }
   ],
   "source": [
    "arr1.shape"
   ]
  },
  {
   "cell_type": "code",
   "execution_count": 44,
   "id": "2f1846f1-6054-4300-a64c-1708cd8e7e14",
   "metadata": {},
   "outputs": [
    {
     "name": "stdout",
     "output_type": "stream",
     "text": [
      "[[1 2 3]\n",
      " [4 5 6]]\n"
     ]
    },
    {
     "data": {
      "text/plain": [
       "2"
      ]
     },
     "execution_count": 44,
     "metadata": {},
     "output_type": "execute_result"
    }
   ],
   "source": [
    "arr2 = np.array ([[1,2,3],[4,5,6]]) #making 2d array \n",
    "print (arr2)\n",
    "arr2.ndim"
   ]
  },
  {
   "cell_type": "code",
   "execution_count": 31,
   "id": "9cf6266c-596c-48c7-aefb-56f3f5bed436",
   "metadata": {},
   "outputs": [
    {
     "data": {
      "text/plain": [
       "(2, 3)"
      ]
     },
     "execution_count": 31,
     "metadata": {},
     "output_type": "execute_result"
    }
   ],
   "source": [
    "arr2.shape"
   ]
  },
  {
   "cell_type": "code",
   "execution_count": 38,
   "id": "9a9eac0f-d836-498e-a8cb-9ca7d86587e5",
   "metadata": {},
   "outputs": [
    {
     "data": {
      "text/plain": [
       "3"
      ]
     },
     "execution_count": 38,
     "metadata": {},
     "output_type": "execute_result"
    }
   ],
   "source": [
    "arr3 = np.array ([[[1,2,3],[4,5,6], [7,8,9]]]) #making 3d array even when it is just with adding square brackets and no number inside\n",
    "arr3.ndim"
   ]
  },
  {
   "cell_type": "code",
   "execution_count": 35,
   "id": "9560608b-a5e4-4a71-8017-8786c30c73e5",
   "metadata": {},
   "outputs": [
    {
     "name": "stdout",
     "output_type": "stream",
     "text": [
      "[[[1 2 3]\n",
      "  [4 5 6]\n",
      "  [7 8 9]]]\n"
     ]
    }
   ],
   "source": [
    "print (arr3)"
   ]
  },
  {
   "cell_type": "code",
   "execution_count": 36,
   "id": "cee6caa0-6525-4811-8c83-4d101e74e1b4",
   "metadata": {},
   "outputs": [
    {
     "data": {
      "text/plain": [
       "(1, 3, 3)"
      ]
     },
     "execution_count": 36,
     "metadata": {},
     "output_type": "execute_result"
    }
   ],
   "source": [
    "#shapes\n",
    "arr3.shape #(block,rows,column) "
   ]
  },
  {
   "cell_type": "code",
   "execution_count": 27,
   "id": "f66c7794-6f8f-4faf-aec9-62dec138ff20",
   "metadata": {},
   "outputs": [
    {
     "data": {
      "text/plain": [
       "(1, 1, 2, 3)"
      ]
     },
     "execution_count": 27,
     "metadata": {},
     "output_type": "execute_result"
    }
   ],
   "source": [
    "arr4 = np.array ([[[[1,2,3],[4,5,6]]]])\n",
    "arr4.shape #groups,block,row,columns"
   ]
  },
  {
   "cell_type": "code",
   "execution_count": 39,
   "id": "d703ece1-7902-49cd-ad84-6c58f14787ef",
   "metadata": {},
   "outputs": [
    {
     "name": "stdout",
     "output_type": "stream",
     "text": [
      "2\n"
     ]
    }
   ],
   "source": [
    "#accessing elements\n",
    "print(arr1[1]) #output 2"
   ]
  },
  {
   "cell_type": "code",
   "execution_count": 45,
   "id": "91293e21-a2d9-4600-b510-5cbb05e2c014",
   "metadata": {},
   "outputs": [
    {
     "name": "stdout",
     "output_type": "stream",
     "text": [
      "6\n"
     ]
    }
   ],
   "source": [
    "print(arr2[1,2]) #second row, third column"
   ]
  },
  {
   "cell_type": "code",
   "execution_count": 49,
   "id": "bb7d09a5-7335-420d-b55d-4a89018548ea",
   "metadata": {},
   "outputs": [
    {
     "name": "stdout",
     "output_type": "stream",
     "text": [
      "8\n"
     ]
    }
   ],
   "source": [
    "print(arr3[0,2,1]) #first block, third row,second column #output 8 "
   ]
  },
  {
   "cell_type": "code",
   "execution_count": 66,
   "id": "0c637db9-3a53-44c2-a9d0-c880dcb2226e",
   "metadata": {},
   "outputs": [
    {
     "name": "stdout",
     "output_type": "stream",
     "text": [
      "[1 2 3 4]\n"
     ]
    }
   ],
   "source": [
    "#slicing\n",
    "arr1=np.array([1,2,3,4,5,6,7]) #when you slice, the last element is not printed, it is not element minus 1 index. it is the element's index you need to put\n",
    "print (arr1[0:4])"
   ]
  },
  {
   "cell_type": "code",
   "execution_count": 56,
   "id": "f0bfdedc-a0cd-437b-b09b-2aca1cba96af",
   "metadata": {},
   "outputs": [
    {
     "data": {
      "text/plain": [
       "array([1, 2, 3, 4, 5, 6, 7])"
      ]
     },
     "execution_count": 56,
     "metadata": {},
     "output_type": "execute_result"
    }
   ],
   "source": [
    "arr1[:]"
   ]
  },
  {
   "cell_type": "code",
   "execution_count": 61,
   "id": "7b53ba6d-bfd2-4905-a6a7-8959d874141b",
   "metadata": {},
   "outputs": [
    {
     "data": {
      "text/plain": [
       "array([2, 3, 4, 5, 6])"
      ]
     },
     "execution_count": 61,
     "metadata": {},
     "output_type": "execute_result"
    }
   ],
   "source": [
    "arr1[1:6] #only printing 2 to 6"
   ]
  },
  {
   "cell_type": "code",
   "execution_count": 67,
   "id": "99391822-b3c1-44b2-b72a-5bf7ebd43d24",
   "metadata": {},
   "outputs": [
    {
     "data": {
      "text/plain": [
       "array([3, 4, 5, 6])"
      ]
     },
     "execution_count": 67,
     "metadata": {},
     "output_type": "execute_result"
    }
   ],
   "source": [
    "arr1[-5:-1] #start from 7 and end at 3 but notice u need to put the "
   ]
  },
  {
   "cell_type": "code",
   "execution_count": 70,
   "id": "ee489095-a5bb-484a-9678-fb916ae0be77",
   "metadata": {},
   "outputs": [
    {
     "data": {
      "text/plain": [
       "4"
      ]
     },
     "execution_count": 70,
     "metadata": {},
     "output_type": "execute_result"
    }
   ],
   "source": [
    "#itemsize\n",
    "itemarr=np.array([2,4,6,8,10])\n",
    "itemarr.itemsize"
   ]
  },
  {
   "cell_type": "code",
   "execution_count": null,
   "id": "87792701-de76-40ed-b060-adb74bfc5686",
   "metadata": {},
   "outputs": [],
   "source": []
  }
 ],
 "metadata": {
  "kernelspec": {
   "display_name": "Python [conda env:base] *",
   "language": "python",
   "name": "conda-base-py"
  },
  "language_info": {
   "codemirror_mode": {
    "name": "ipython",
    "version": 3
   },
   "file_extension": ".py",
   "mimetype": "text/x-python",
   "name": "python",
   "nbconvert_exporter": "python",
   "pygments_lexer": "ipython3",
   "version": "3.12.7"
  }
 },
 "nbformat": 4,
 "nbformat_minor": 5
}
