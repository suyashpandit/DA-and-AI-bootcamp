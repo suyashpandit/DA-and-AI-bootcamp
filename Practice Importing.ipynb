{
 "cells": [
  {
   "cell_type": "code",
   "execution_count": 1,
   "id": "527b09c4-9f08-4aec-84ca-bcf7a82e9317",
   "metadata": {},
   "outputs": [],
   "source": [
    "import sqlite3 as sql\n",
    "#connecting to a database or creating if it doesnt exist\n",
    "connection = sql.connect(\"bootcamp.db\")\n",
    "#creating a cursor object using the connection. a cursor just helps to perform operations in a dataset\n",
    "cursor =connection.cursor()"
   ]
  },
  {
   "cell_type": "code",
   "execution_count": 2,
   "id": "edfc5f1e-5adf-462a-b649-105bcfd76cb7",
   "metadata": {},
   "outputs": [],
   "source": [
    "import requests"
   ]
  },
  {
   "cell_type": "code",
   "execution_count": 3,
   "id": "6baff8b0-3d12-4aac-86fd-27f90247e191",
   "metadata": {},
   "outputs": [],
   "source": [
    "import pandas as pd"
   ]
  },
  {
   "cell_type": "code",
   "execution_count": 10,
   "id": "c86c7805-9535-468a-bcd4-5171da79a151",
   "metadata": {},
   "outputs": [
    {
     "data": {
      "text/plain": [
       "<Response [200]>"
      ]
     },
     "execution_count": 10,
     "metadata": {},
     "output_type": "execute_result"
    }
   ],
   "source": [
    "url = \"https://www.facebook.com/\"\n",
    "response = requests.get(url)\n",
    "response"
   ]
  },
  {
   "cell_type": "code",
   "execution_count": 7,
   "id": "16b32ad3-8598-4d45-9ebd-5fc5c76807d9",
   "metadata": {},
   "outputs": [
    {
     "data": {
      "text/html": [
       "<div>\n",
       "<style scoped>\n",
       "    .dataframe tbody tr th:only-of-type {\n",
       "        vertical-align: middle;\n",
       "    }\n",
       "\n",
       "    .dataframe tbody tr th {\n",
       "        vertical-align: top;\n",
       "    }\n",
       "\n",
       "    .dataframe thead th {\n",
       "        text-align: right;\n",
       "    }\n",
       "</style>\n",
       "<table border=\"1\" class=\"dataframe\">\n",
       "  <thead>\n",
       "    <tr style=\"text-align: right;\">\n",
       "      <th></th>\n",
       "      <th>0</th>\n",
       "    </tr>\n",
       "  </thead>\n",
       "  <tbody>\n",
       "    <tr>\n",
       "      <th>0</th>\n",
       "      <td>b'&lt;!DOCTYPE html&gt;\\n&lt;html lang=\"en\" id=\"faceboo...</td>\n",
       "    </tr>\n",
       "    <tr>\n",
       "      <th>1</th>\n",
       "      <td>b't\" id=\"meta_referrer\" /&gt;&lt;script nonce=\"bPK0q...</td>\n",
       "    </tr>\n",
       "    <tr>\n",
       "      <th>2</th>\n",
       "      <td>b'window.requireLazy([\"Env\"],b):(window.Env=wi...</td>\n",
       "    </tr>\n",
       "    <tr>\n",
       "      <th>3</th>\n",
       "      <td>b'nly\":false,\"ajaxpipe_token\":\"AXjhZeXV76-nRjP...</td>\n",
       "    </tr>\n",
       "    <tr>\n",
       "      <th>4</th>\n",
       "      <td>b'se,\"compat_iframe_token\":\"AUUuB3lK1T4ehq-vA_...</td>\n",
       "    </tr>\n",
       "  </tbody>\n",
       "</table>\n",
       "</div>"
      ],
      "text/plain": [
       "                                                   0\n",
       "0  b'<!DOCTYPE html>\\n<html lang=\"en\" id=\"faceboo...\n",
       "1  b't\" id=\"meta_referrer\" /><script nonce=\"bPK0q...\n",
       "2  b'window.requireLazy([\"Env\"],b):(window.Env=wi...\n",
       "3  b'nly\":false,\"ajaxpipe_token\":\"AXjhZeXV76-nRjP...\n",
       "4  b'se,\"compat_iframe_token\":\"AUUuB3lK1T4ehq-vA_..."
      ]
     },
     "execution_count": 7,
     "metadata": {},
     "output_type": "execute_result"
    }
   ],
   "source": [
    "df = pd.DataFrame(response)\n",
    "df.head(5)"
   ]
  }
 ],
 "metadata": {
  "kernelspec": {
   "display_name": "Python [conda env:base] *",
   "language": "python",
   "name": "conda-base-py"
  },
  "language_info": {
   "codemirror_mode": {
    "name": "ipython",
    "version": 3
   },
   "file_extension": ".py",
   "mimetype": "text/x-python",
   "name": "python",
   "nbconvert_exporter": "python",
   "pygments_lexer": "ipython3",
   "version": "3.12.7"
  }
 },
 "nbformat": 4,
 "nbformat_minor": 5
}
