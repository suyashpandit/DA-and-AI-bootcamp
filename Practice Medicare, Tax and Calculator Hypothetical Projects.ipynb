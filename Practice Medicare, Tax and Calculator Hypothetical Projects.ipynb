{
 "cells": [
  {
   "cell_type": "code",
   "execution_count": 11,
   "id": "d70f5cc5-bc0a-4cde-881c-15f13959aaa1",
   "metadata": {},
   "outputs": [
    {
     "name": "stdin",
     "output_type": "stream",
     "text": [
      "Enter age of the patient: 55\n"
     ]
    },
    {
     "name": "stdout",
     "output_type": "stream",
     "text": [
      "The patient is not eligible for Medicare\n"
     ]
    }
   ],
   "source": [
    "#control structures practicing imagining myself preparing a Medicare insurance eligibility \n",
    "age = int(input(\"Enter age of the patient:\"))\n",
    "#age of patient at a hospital\n",
    "\n",
    "if age >= 65:\n",
    "    print (\"The patient is eligible for Medicare\")\n",
    "else:\n",
    "    print (\"The patient is not eligible for Medicare\")"
   ]
  },
  {
   "cell_type": "code",
   "execution_count": 5,
   "id": "496ebd17-714f-43f1-b170-1f4039178eca",
   "metadata": {},
   "outputs": [
    {
     "name": "stdin",
     "output_type": "stream",
     "text": [
      "Enter the income amount: 5599\n"
     ]
    },
    {
     "name": "stdout",
     "output_type": "stream",
     "text": [
      "tax payment required\n"
     ]
    }
   ],
   "source": [
    "#checking tax eligibility\n",
    "\n",
    "income = float(input(\"Enter the income amount:\"))#using float here instead of int because income can be in decimals too\n",
    "if income> 1000 and income < 2000:\n",
    "    print (\"No tax payment needed\")\n",
    "elif income <1000:\n",
    "    print (\"government bonus eligible\")\n",
    "else:\n",
    "    print (\"tax payment required\")"
   ]
  },
  {
   "cell_type": "code",
   "execution_count": 10,
   "id": "84a2bb6d-087d-4b01-8654-5b6637718649",
   "metadata": {},
   "outputs": [
    {
     "name": "stdin",
     "output_type": "stream",
     "text": [
      "enter the number: 55.2\n"
     ]
    },
    {
     "name": "stdout",
     "output_type": "stream",
     "text": [
      "please enter a whole number\n"
     ]
    }
   ],
   "source": [
    "#even or odd calculator with float number using 2 conditionals\n",
    "\n",
    "num1 = float(input (\"enter the number:\")) #user can enter float too, but i need to find it and give a message\n",
    "if num1.is_integer(): #now checking if the number entered is float or integer \n",
    "    num1=int(num1) #float changed to integer\n",
    "    if num1 % 2 == 0:\n",
    "        print (\"the number is even\")\n",
    "    else:\n",
    "        print (\"the number is odd\")\n",
    "else:\n",
    "    print (\"please enter a whole number\") #used 2 conditionals together"
   ]
  }
 ],
 "metadata": {
  "kernelspec": {
   "display_name": "Python [conda env:base] *",
   "language": "python",
   "name": "conda-base-py"
  },
  "language_info": {
   "codemirror_mode": {
    "name": "ipython",
    "version": 3
   },
   "file_extension": ".py",
   "mimetype": "text/x-python",
   "name": "python",
   "nbconvert_exporter": "python",
   "pygments_lexer": "ipython3",
   "version": "3.12.7"
  }
 },
 "nbformat": 4,
 "nbformat_minor": 5
}
