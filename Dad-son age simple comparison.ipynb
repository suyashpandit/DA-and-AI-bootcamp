{
 "cells": [
  {
   "cell_type": "code",
   "execution_count": 21,
   "id": "c8ff7e5f-67ee-4093-a6f0-3e16a3b54cf5",
   "metadata": {},
   "outputs": [
    {
     "name": "stdin",
     "output_type": "stream",
     "text": [
      "Enter son's age: 22\n",
      "Enter dad's age: 78\n"
     ]
    },
    {
     "name": "stdout",
     "output_type": "stream",
     "text": [
      "The age of the son is 22 and it is of <class 'int'>\n",
      "The age of the dad is 78 and it is of <class 'int'>\n",
      "The sum of both ages is 100\n",
      "The dad is 56 years older than the son\n",
      "The multiple of their ages is 1716\n",
      "The floor division of their ages is 3\n",
      "Is dad the same age as son? False\n",
      "Is dad older than son? True\n",
      "Is son not older than dad? True\n",
      "Is dad not the same age as son? True\n",
      "Is son less than or equal to dad's age? True\n"
     ]
    }
   ],
   "source": [
    "#variable assignment and operators #Suyash Week1 Day2 tasks\n",
    "\n",
    "age1=int(input(\"Enter son's age:\")) #son age\n",
    "age2=int(input(\"Enter dad's age:\")) #dad age\n",
    "\n",
    "print (\"The age of the son is\" ,(age1), \"and it is of\" ,type(age1))\n",
    "print (\"The age of the dad is\",(age2), \"and it is of\", type(age2))\n",
    "print (\"The sum of both ages is\", (age1+age2))\n",
    "print (\"The dad is\", (age2-age1), \"years older than the son\")\n",
    "print (\"The multiple of their ages is\", (age1*age2))\n",
    "print (\"The floor division of their ages is\", (age2//age1))\n",
    "print(\"Is dad the same age as son?\", age1==age2)\n",
    "print(\"Is dad older than son?\", age2>age1)\n",
    "print(\"Is son not older than dad?\",age1<=age2)\n",
    "print(\"Is dad not the same age as son?\", age1 !=age2)\n",
    "print(\"Is son less than or equal to dad's age?\", age1<=age2)"
   ]
  },
  {
   "cell_type": "code",
   "execution_count": 23,
   "id": "7f7b85b2-c191-4879-9af3-1d6470fa50d1",
   "metadata": {},
   "outputs": [
    {
     "name": "stdout",
     "output_type": "stream",
     "text": [
      "The swapped age of son 22\n",
      "The swapped age of dad is 78\n"
     ]
    }
   ],
   "source": [
    "#Swapping the values of ages\n",
    "age1=age2+age1 #adding them to give a new value to age1 before it runs\n",
    "age2=age1-age2 #now the sum of their ages minus dad age will be son's age when it runs\n",
    "age1=age1-age2 #now the sum of their ages minus the new age2 will be son's new age when it runs\n",
    "print(\"The swapped age of son\", age1)\n",
    "print(\"The swapped age of dad is\", age2)"
   ]
  }
 ],
 "metadata": {
  "kernelspec": {
   "display_name": "Python [conda env:base] *",
   "language": "python",
   "name": "conda-base-py"
  },
  "language_info": {
   "codemirror_mode": {
    "name": "ipython",
    "version": 3
   },
   "file_extension": ".py",
   "mimetype": "text/x-python",
   "name": "python",
   "nbconvert_exporter": "python",
   "pygments_lexer": "ipython3",
   "version": "3.12.7"
  }
 },
 "nbformat": 4,
 "nbformat_minor": 5
}
