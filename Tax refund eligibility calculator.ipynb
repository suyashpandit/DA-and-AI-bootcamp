{
 "cells": [
  {
   "cell_type": "code",
   "execution_count": 1,
   "id": "fd0c3c1e-cc53-4170-af63-5b50e42a43bf",
   "metadata": {},
   "outputs": [
    {
     "name": "stdin",
     "output_type": "stream",
     "text": [
      "Enter the income amount: 1990\n"
     ]
    },
    {
     "name": "stdout",
     "output_type": "stream",
     "text": [
      "No tax payment needed\n"
     ]
    }
   ],
   "source": [
    "#checking tax eligibility\n",
    "\n",
    "income = float(input(\"Enter the income amount:\"))#using float here instead of int because income can be in decimals too\n",
    "if income> 1000 and income < 2000:\n",
    "    print (\"No tax payment needed\")\n",
    "elif income <1000:\n",
    "    print (\"government bonus eligible\")\n",
    "else:\n",
    "    print (\"tax payment required\")"
   ]
  }
 ],
 "metadata": {
  "kernelspec": {
   "display_name": "Python [conda env:base] *",
   "language": "python",
   "name": "conda-base-py"
  },
  "language_info": {
   "codemirror_mode": {
    "name": "ipython",
    "version": 3
   },
   "file_extension": ".py",
   "mimetype": "text/x-python",
   "name": "python",
   "nbconvert_exporter": "python",
   "pygments_lexer": "ipython3",
   "version": "3.12.7"
  }
 },
 "nbformat": 4,
 "nbformat_minor": 5
}
