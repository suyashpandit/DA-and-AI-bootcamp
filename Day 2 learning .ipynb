{
 "cells": [
  {
   "cell_type": "code",
   "execution_count": 2,
   "id": "81e23086-4c45-49ff-ab38-5fbdaca9f981",
   "metadata": {},
   "outputs": [
    {
     "name": "stdout",
     "output_type": "stream",
     "text": [
      "Hello fellow coders. I am glad to be in this camp with you\n"
     ]
    }
   ],
   "source": [
    "# learning how to use various python syntaxes on day 2 of bootcamp\n",
    "\n",
    "# print a message saying hello to all the fellow coders\n",
    "print (\"Hello fellow coders. I am glad to be in this camp with you\")"
   ]
  },
  {
   "cell_type": "code",
   "execution_count": 7,
   "id": "fe09e841-7cf2-406d-a13e-f731a8d7d7fa",
   "metadata": {},
   "outputs": [
    {
     "name": "stdout",
     "output_type": "stream",
     "text": [
      "The first number is 20 and the second number is 80\n"
     ]
    }
   ],
   "source": [
    "# assigning values to variables\n",
    "\n",
    "data1 = 20\n",
    "data2 = 80\n",
    "\n",
    "# to print a result changing the values of data1 and data2 \n",
    "\n",
    "print (f\"The first number is {data1} and the second number is {data2}\")"
   ]
  },
  {
   "cell_type": "code",
   "execution_count": 10,
   "id": "2851c8c5-1e93-4c44-87c5-d47cc158abe3",
   "metadata": {},
   "outputs": [
    {
     "name": "stdout",
     "output_type": "stream",
     "text": [
      "The sum of two numbers provided is 100\n"
     ]
    }
   ],
   "source": [
    "print (f\"The sum of two numbers provided is {data1+data2}\")"
   ]
  },
  {
   "cell_type": "code",
   "execution_count": 14,
   "id": "c2264f59-0615-47d8-84a7-afd5834db93f",
   "metadata": {},
   "outputs": [
    {
     "name": "stdout",
     "output_type": "stream",
     "text": [
      "The first amount to be paid is 20 dollars and the second payment is 80 dollars and so the customer owes in total 100 dollars. \n"
     ]
    }
   ],
   "source": [
    "#using old data style of .format\n",
    "\n",
    "print (\"The first amount to be paid is {} dollars and the second payment is {} dollars and so the customer owes in total {} dollars. \". format(data1, data2, data1+data2))"
   ]
  },
  {
   "cell_type": "code",
   "execution_count": 3,
   "id": "962fe800-f846-4a46-90b3-382f43938dd5",
   "metadata": {},
   "outputs": [
    {
     "data": {
      "text/plain": [
       "150"
      ]
     },
     "execution_count": 3,
     "metadata": {},
     "output_type": "execute_result"
    }
   ],
   "source": [
    "#learning to use python as a calculator\n",
    "\n",
    "100+50 #sum"
   ]
  },
  {
   "cell_type": "code",
   "execution_count": 5,
   "id": "4521680f-e0e8-4a9d-bd02-bf745987c57e",
   "metadata": {},
   "outputs": [
    {
     "data": {
      "text/plain": [
       "50"
      ]
     },
     "execution_count": 5,
     "metadata": {},
     "output_type": "execute_result"
    }
   ],
   "source": [
    "100-50 #difference"
   ]
  },
  {
   "cell_type": "code",
   "execution_count": 6,
   "id": "05f60d4d-bcdd-4422-a71c-80185307b0e3",
   "metadata": {},
   "outputs": [
    {
     "data": {
      "text/plain": [
       "5000"
      ]
     },
     "execution_count": 6,
     "metadata": {},
     "output_type": "execute_result"
    }
   ],
   "source": [
    "100*50 #multiply"
   ]
  },
  {
   "cell_type": "code",
   "execution_count": 8,
   "id": "a822fef9-3dd6-4db9-abcf-083c4c86957f",
   "metadata": {},
   "outputs": [
    {
     "data": {
      "text/plain": [
       "2.02"
      ]
     },
     "execution_count": 8,
     "metadata": {},
     "output_type": "execute_result"
    }
   ],
   "source": [
    "101/50 #classic division will give a float ie in decimals"
   ]
  },
  {
   "cell_type": "code",
   "execution_count": 9,
   "id": "2f852a5e-59cd-401b-99e4-6197be3fc41a",
   "metadata": {},
   "outputs": [
    {
     "data": {
      "text/plain": [
       "2"
      ]
     },
     "execution_count": 9,
     "metadata": {},
     "output_type": "execute_result"
    }
   ],
   "source": [
    "101//50 #floor division will jut give the quotient"
   ]
  },
  {
   "cell_type": "code",
   "execution_count": 11,
   "id": "0f9c01e2-3dd7-494a-9803-afad23f192d8",
   "metadata": {},
   "outputs": [
    {
     "data": {
      "text/plain": [
       "1"
      ]
     },
     "execution_count": 11,
     "metadata": {},
     "output_type": "execute_result"
    }
   ],
   "source": [
    "101%50 #this % operator will give the remainder"
   ]
  },
  {
   "cell_type": "code",
   "execution_count": 12,
   "id": "a5894d89-b01c-4891-8dde-5bc9daef9662",
   "metadata": {},
   "outputs": [
    {
     "data": {
      "text/plain": [
       "10000"
      ]
     },
     "execution_count": 12,
     "metadata": {},
     "output_type": "execute_result"
    }
   ],
   "source": [
    "100**2 #square of 100"
   ]
  },
  {
   "cell_type": "code",
   "execution_count": 13,
   "id": "4db25376-97a5-425a-8451-37f2a5e977b4",
   "metadata": {},
   "outputs": [
    {
     "data": {
      "text/plain": [
       "1953125000000000"
      ]
     },
     "execution_count": 13,
     "metadata": {},
     "output_type": "execute_result"
    }
   ],
   "source": [
    "50**9 #ninth power of 50"
   ]
  },
  {
   "cell_type": "code",
   "execution_count": 41,
   "id": "cf5569ae-e625-45da-888f-3a3ff15896c4",
   "metadata": {},
   "outputs": [
    {
     "name": "stdout",
     "output_type": "stream",
     "text": [
      "The volume is as follows:\n"
     ]
    },
    {
     "data": {
      "text/plain": [
       "23230.0"
      ]
     },
     "execution_count": 41,
     "metadata": {},
     "output_type": "execute_result"
    }
   ],
   "source": [
    "#the width of the room is 15 ft and the height is 10 ft and the length is 20 ft. now calculating the total volume of the room \n",
    "width = 23\n",
    "height = 50.5\n",
    "length = 20\n",
    "print (\"The volume is as follows:\") \n",
    "width*height*length"
   ]
  },
  {
   "cell_type": "code",
   "execution_count": 42,
   "id": "84a2fc34-d339-4206-a83f-a420744a756a",
   "metadata": {},
   "outputs": [
    {
     "name": "stdout",
     "output_type": "stream",
     "text": [
      "Width is 23ft, length is 20ft and the height is 50.5ft and the volume is 23230.0 cubic feet.\n"
     ]
    }
   ],
   "source": [
    "#using f string for the same use as above\n",
    "print (f\"Width is {width}ft, length is {length}ft and the height is {height}ft and the volume is {width*height*length} cubic feet.\")"
   ]
  },
  {
   "cell_type": "code",
   "execution_count": 43,
   "id": "f29df27f-0424-455f-bdef-29a09e196b4e",
   "metadata": {},
   "outputs": [
    {
     "name": "stdout",
     "output_type": "stream",
     "text": [
      "The width is 23 ft and the length is 20 ft and the area is 460 sqft\n"
     ]
    }
   ],
   "source": [
    "print(\"The width is {} ft and the length is {} ft and the area is {} sqft\".format(width, length, width*length)) #using .format"
   ]
  },
  {
   "cell_type": "code",
   "execution_count": 44,
   "id": "4986fee1-0d6b-4629-ac5f-f6ff57cc9488",
   "metadata": {},
   "outputs": [
    {
     "name": "stdout",
     "output_type": "stream",
     "text": [
      "Width is 23 and the length is 20 and the area is 460\n"
     ]
    }
   ],
   "source": [
    "#using %\n",
    "print(\"Width is %d and the length is %d and the area is %d\" % (width, length, width*length))"
   ]
  },
  {
   "cell_type": "code",
   "execution_count": null,
   "id": "e8384ebf-ab91-4fe0-9e53-c1b27c70ebbe",
   "metadata": {},
   "outputs": [],
   "source": []
  }
 ],
 "metadata": {
  "kernelspec": {
   "display_name": "Python [conda env:base] *",
   "language": "python",
   "name": "conda-base-py"
  },
  "language_info": {
   "codemirror_mode": {
    "name": "ipython",
    "version": 3
   },
   "file_extension": ".py",
   "mimetype": "text/x-python",
   "name": "python",
   "nbconvert_exporter": "python",
   "pygments_lexer": "ipython3",
   "version": "3.12.7"
  }
 },
 "nbformat": 4,
 "nbformat_minor": 5
}
