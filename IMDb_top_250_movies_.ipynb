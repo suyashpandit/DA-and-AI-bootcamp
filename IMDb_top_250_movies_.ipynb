{
 "cells": [
  {
   "cell_type": "code",
   "execution_count": 1,
   "id": "ba108128-d083-40ef-a889-c865f7bd060f",
   "metadata": {},
   "outputs": [
    {
     "name": "stdout",
     "output_type": "stream",
     "text": [
      "Retrieved successfully.\n"
     ]
    }
   ],
   "source": [
    "#importing libraries\n",
    "import requests #making http requests\n",
    "from bs4 import BeautifulSoup #html content parsing\n",
    "import pandas as pd #for creating, storing and manipulating\n",
    "import json #json data\n",
    "#defining url request\n",
    "headers = {\n",
    "    'User-Agent': 'Mozilla/5.0 (Windows NT 10.0; Win64; x64) AppleWebKit/537.36 (KHTML, like Gecko) Chrome/91.0.4472.124 Safari/537.36'\n",
    "}\n",
    "url =\"https://www.imdb.com/chart/top/\"\n",
    "response = requests.get(url, headers=headers)\n",
    "response.status_code\n",
    "if response.status_code == 200:\n",
    "    print (\"Retrieved successfully.\")\n",
    "else:\n",
    "    print (f\"Error retrieving, status code: {response.status_code}\")\n",
    "\n",
    "soup = BeautifulSoup(response.content, \"html.parser\")\n",
    "soup #parsing\n",
    "(soup.prettify())\n",
    "\n",
    "json_data=soup.find(\"script\",type=\"application/ld+json\")\n",
    "if json_data:\n",
    "    data = json.loads(json_data.string)\n",
    "\n",
    "titles = []\n",
    "urls = []\n",
    "descriptions = []\n",
    "best_ratings = []\n",
    "worst_ratings = []\n",
    "ratings = []\n",
    "genres = []\n",
    "durations = [] #initializing lists to hold the extracted movie details\n",
    "#extracting movie details from the JSON data\n",
    "if \"itemListElement\" in data:#checking if key exists\n",
    "    for item in data[\"itemListElement\"]:  #looping\n",
    "        movie=item[\"item\"] #accessing individual data\n",
    "        titles.append(movie[\"name\"]) #appending\n",
    "        urls.append(movie[\"url\"])\n",
    "        descriptions.append(movie[\"description\"])\n",
    "        best_ratings.append(movie[\"aggregateRating\"][\"bestRating\"])\n",
    "        worst_ratings.append(movie[\"aggregateRating\"][\"worstRating\"])\n",
    "        ratings.append(float(movie[\"aggregateRating\"][\"ratingValue\"]))\n",
    "        genres.append(movie[\"genre\"])\n",
    "        durations.append(movie[\"duration\"])\n",
    "\n",
    "df = pd.DataFrame({\n",
    "    \"Title\": titles,\n",
    "    \"URL\": urls,\n",
    "    \"Description\": descriptions,\n",
    "    \"Best rating\": best_ratings,\n",
    "    \"Worst rating\": worst_ratings,\n",
    "    \"Rating\": ratings,\n",
    "    \"Genre\": genres,\n",
    "    \"Duration\": durations\n",
    "}) #creating pandas dataframe\n",
    "\n",
    "df.insert(0, \"ID\", range(1, len(df)+1))  #inserting column named ID at 0 index "
   ]
  },
  {
   "cell_type": "code",
   "execution_count": 2,
   "id": "775bea78-df57-4496-af01-f18e14ae8046",
   "metadata": {},
   "outputs": [
    {
     "name": "stdout",
     "output_type": "stream",
     "text": [
      "Data saved to 'IMDb_top_250_movies1.csv'\n"
     ]
    }
   ],
   "source": [
    "df.to_csv(\"IMDb_top_250_movies1.csv\", index = False) #not saving index column\n",
    "print (\"Data saved to 'IMDb_top_250_movies1.csv'\") #notification "
   ]
  }
 ],
 "metadata": {
  "kernelspec": {
   "display_name": "Python [conda env:base] *",
   "language": "python",
   "name": "conda-base-py"
  },
  "language_info": {
   "codemirror_mode": {
    "name": "ipython",
    "version": 3
   },
   "file_extension": ".py",
   "mimetype": "text/x-python",
   "name": "python",
   "nbconvert_exporter": "python",
   "pygments_lexer": "ipython3",
   "version": "3.12.7"
  }
 },
 "nbformat": 4,
 "nbformat_minor": 5
}
