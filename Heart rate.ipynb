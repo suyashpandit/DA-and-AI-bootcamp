{
 "cells": [
  {
   "cell_type": "code",
   "execution_count": null,
   "id": "46aa49cf-d1d9-43db-b1ea-e6278c563ef6",
   "metadata": {},
   "outputs": [],
   "source": [
    "# Input: list of heart rates\n",
    "input_data = input(\"Enter heart rates separated by commas: \")\n",
    "heart_rates = [int(hr.strip()) for hr in input_data.split(\",\")]\n",
    "\n",
    "# Initialize counters\n",
    "brady = 0\n",
    "normal = 0\n",
    "tachy = 0\n",
    "\n",
    "# Loop and categorize\n",
    "for hr in heart_rates:\n",
    "    if hr < 60:\n",
    "        brady += 1\n",
    "    elif hr <= 100:\n",
    "        normal += 1\n",
    "    else:\n",
    "        tachy += 1\n",
    "\n",
    "# Output\n",
    "print(\"Bradycardia:\", brady)\n",
    "print(\"Normal:\", normal)\n",
    "print(\"Tachycardia:\", tachy)\n"
   ]
  }
 ],
 "metadata": {
  "kernelspec": {
   "display_name": "Python [conda env:base] *",
   "language": "python",
   "name": "conda-base-py"
  },
  "language_info": {
   "codemirror_mode": {
    "name": "ipython",
    "version": 3
   },
   "file_extension": ".py",
   "mimetype": "text/x-python",
   "name": "python",
   "nbconvert_exporter": "python",
   "pygments_lexer": "ipython3",
   "version": "3.12.7"
  }
 },
 "nbformat": 4,
 "nbformat_minor": 5
}
