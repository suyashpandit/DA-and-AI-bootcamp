{
 "cells": [
  {
   "cell_type": "code",
   "execution_count": 1,
   "id": "de68dea7-aa3f-4fbb-b30e-bb148624a007",
   "metadata": {},
   "outputs": [],
   "source": [
    "import scrapy\n",
    "import pandas as pd\n",
    "import json"
   ]
  },
  {
   "cell_type": "code",
   "execution_count": 2,
   "id": "f36ac09e-5eb4-4adf-af4a-cd6da53aaf36",
   "metadata": {},
   "outputs": [
    {
     "name": "stdout",
     "output_type": "stream",
     "text": [
      "Projects found in directory: C:\\Users\\suyas\\Desktop\\Scrapy\n",
      "Directories: ['suyashproject']\n",
      "Files: []\n",
      "Directories: ['suyashproject']\n",
      "Files: ['scrapy.cfg']\n",
      "Directories: ['spiders']\n",
      "Files: ['items.py', 'middlewares.py', 'pipelines.py', 'settings.py', '__init__.py']\n",
      "Directories: []\n",
      "Files: ['__init__.py']\n"
     ]
    }
   ],
   "source": [
    "#checking if any Scrapy project exists already\n",
    "import os\n",
    "desktop_path = os.path.join(os.path.expanduser(\"~\"),\"Desktop\")\n",
    "project_dir = os.path.join(desktop_path, \"Scrapy\")\n",
    "#checking if the project directory exists\n",
    "if os.path.exists(project_dir):\n",
    "    print(f\"Projects found in directory: {project_dir}\")\n",
    "\n",
    "#listing all files and directories within the project directory\n",
    "    for root,dirs,files in os.walk(project_dir):\n",
    "        print(\"Directories:\",dirs)\n",
    "        print(\"Files:\",files)\n",
    "else:\n",
    "    print (f\"No Scrapy project found in the directory: {project_dir}\")"
   ]
  },
  {
   "cell_type": "code",
   "execution_count": 3,
   "id": "1730bdd4-2d4b-4425-bd8c-21633bcf85d6",
   "metadata": {},
   "outputs": [
    {
     "data": {
      "text/plain": [
       "1"
      ]
     },
     "execution_count": 3,
     "metadata": {},
     "output_type": "execute_result"
    }
   ],
   "source": [
    "project_name=\"sarbesproject\"\n",
    "os.system(f\"scrapy startproject {project_name}\")"
   ]
  },
  {
   "cell_type": "code",
   "execution_count": 4,
   "id": "03f6344d-66e1-46ee-8644-f328509b4dcd",
   "metadata": {},
   "outputs": [
    {
     "data": {
      "text/plain": [
       "['sarbesproject', 'scrapy.cfg']"
      ]
     },
     "execution_count": 4,
     "metadata": {},
     "output_type": "execute_result"
    }
   ],
   "source": [
    "project_name = \"sarbesproject\"\n",
    "os.listdir(project_name) #checking the directory structure of the new project"
   ]
  },
  {
   "cell_type": "code",
   "execution_count": 5,
   "id": "a642a1f3-b27e-414e-8119-f2516825c356",
   "metadata": {},
   "outputs": [],
   "source": [
    "# Define the spider code as a string\n",
    "spider_code = \"\"\"\n",
    "import scrapy\n",
    " \n",
    "class MySpider(scrapy.Spider):\n",
    "    name = 'my_spider'\n",
    "    start_urls = ['http://quotes.toscrape.com']\n",
    " \n",
    "    def parse(self, response):\n",
    "        for quote in response.css('div.quote'):\n",
    "            yield {\n",
    "                'text': quote.css('span.text::text').get(),\n",
    "                'author': quote.css('small.author::text').get(),\n",
    "                'tags': quote.css('div.tags a.tag::text').getall(),\n",
    "            }\n",
    "        next_page = response.css('li.next a::attr(href)').get()\n",
    "        if next_page:\n",
    "            yield response.follow(next_page, self.parse)\n",
    "\"\"\""
   ]
  },
  {
   "cell_type": "code",
   "execution_count": 6,
   "id": "0667c278-561d-4585-b69b-017f96480ac1",
   "metadata": {},
   "outputs": [],
   "source": [
    "project_name = \"sarbesproject\"\n",
    "spider_file_path = os.path.join(project_name, project_name, \"spiders\", \"my_spider.py\") #saving the spider code to a file\n",
    "\n",
    "with open(spider_file_path, \"w\") as f:\n",
    "    f.write(spider_code)"
   ]
  },
  {
   "cell_type": "code",
   "execution_count": 7,
   "id": "235a6267-0d7f-4f96-bceb-464699645126",
   "metadata": {},
   "outputs": [
    {
     "data": {
      "text/plain": [
       "'sarbesproject\\\\sarbesout.json'"
      ]
     },
     "execution_count": 7,
     "metadata": {},
     "output_type": "execute_result"
    }
   ],
   "source": [
    "import os\n",
    "import subprocess\n",
    "project_name = \"sarbesproject\"\n",
    "output_file = os.path.join(project_name, \"sarbesout.json\") #output file for the scraped file\n",
    "output_file"
   ]
  },
  {
   "cell_type": "code",
   "execution_count": 8,
   "id": "8ebac962-6a91-4494-b527-02af1c95b51a",
   "metadata": {},
   "outputs": [
    {
     "data": {
      "text/plain": [
       "CompletedProcess(args=['scrapy', 'crawl', 'my_spider', 'o-', 't-', 'json'], returncode=2)"
      ]
     },
     "execution_count": 8,
     "metadata": {},
     "output_type": "execute_result"
    }
   ],
   "source": [
    "subprocess.run ([\n",
    "    \"scrapy\",\n",
    "    \"crawl\",\n",
    "    \"my_spider\",\n",
    "    \"o-\",\n",
    "    \"t-\",\n",
    "    \"json\"\n",
    "], cwd = project_name)"
   ]
  },
  {
   "cell_type": "code",
   "execution_count": 9,
   "id": "8b6da419-d0b1-4cff-be37-4b36db5e4974",
   "metadata": {},
   "outputs": [
    {
     "data": {
      "text/plain": [
       "'sarbesproject\\\\sarbesout.json'"
      ]
     },
     "execution_count": 9,
     "metadata": {},
     "output_type": "execute_result"
    }
   ],
   "source": [
    "json_file_path=os.path.join(project_name, \"sarbesout.json\")\n",
    "json_file_path"
   ]
  },
  {
   "cell_type": "code",
   "execution_count": 116,
   "id": "5a3d1522-2292-4c21-8e1e-7ccaf84dec45",
   "metadata": {},
   "outputs": [
    {
     "ename": "FileNotFoundError",
     "evalue": "[Errno 2] No such file or directory: 'sarbesproject\\\\sarbesout.json'",
     "output_type": "error",
     "traceback": [
      "\u001b[1;31m---------------------------------------------------------------------------\u001b[0m",
      "\u001b[1;31mFileNotFoundError\u001b[0m                         Traceback (most recent call last)",
      "Cell \u001b[1;32mIn[116], line 1\u001b[0m\n\u001b[1;32m----> 1\u001b[0m \u001b[38;5;28;01mwith\u001b[39;00m \u001b[38;5;28mopen\u001b[39m(json_file_path, \u001b[38;5;124m\"\u001b[39m\u001b[38;5;124mr\u001b[39m\u001b[38;5;124m\"\u001b[39m , encoding \u001b[38;5;241m=\u001b[39m \u001b[38;5;124m\"\u001b[39m\u001b[38;5;124mutf-8\u001b[39m\u001b[38;5;124m\"\u001b[39m) \u001b[38;5;28;01mas\u001b[39;00m f:\n\u001b[0;32m      2\u001b[0m     data \u001b[38;5;241m=\u001b[39m json\u001b[38;5;241m.\u001b[39mload(f)\n\u001b[0;32m      3\u001b[0m     data\n",
      "File \u001b[1;32m~\\anaconda3\\Lib\\site-packages\\IPython\\core\\interactiveshell.py:324\u001b[0m, in \u001b[0;36m_modified_open\u001b[1;34m(file, *args, **kwargs)\u001b[0m\n\u001b[0;32m    317\u001b[0m \u001b[38;5;28;01mif\u001b[39;00m file \u001b[38;5;129;01min\u001b[39;00m {\u001b[38;5;241m0\u001b[39m, \u001b[38;5;241m1\u001b[39m, \u001b[38;5;241m2\u001b[39m}:\n\u001b[0;32m    318\u001b[0m     \u001b[38;5;28;01mraise\u001b[39;00m \u001b[38;5;167;01mValueError\u001b[39;00m(\n\u001b[0;32m    319\u001b[0m         \u001b[38;5;124mf\u001b[39m\u001b[38;5;124m\"\u001b[39m\u001b[38;5;124mIPython won\u001b[39m\u001b[38;5;124m'\u001b[39m\u001b[38;5;124mt let you open fd=\u001b[39m\u001b[38;5;132;01m{\u001b[39;00mfile\u001b[38;5;132;01m}\u001b[39;00m\u001b[38;5;124m by default \u001b[39m\u001b[38;5;124m\"\u001b[39m\n\u001b[0;32m    320\u001b[0m         \u001b[38;5;124m\"\u001b[39m\u001b[38;5;124mas it is likely to crash IPython. If you know what you are doing, \u001b[39m\u001b[38;5;124m\"\u001b[39m\n\u001b[0;32m    321\u001b[0m         \u001b[38;5;124m\"\u001b[39m\u001b[38;5;124myou can use builtins\u001b[39m\u001b[38;5;124m'\u001b[39m\u001b[38;5;124m open.\u001b[39m\u001b[38;5;124m\"\u001b[39m\n\u001b[0;32m    322\u001b[0m     )\n\u001b[1;32m--> 324\u001b[0m \u001b[38;5;28;01mreturn\u001b[39;00m io_open(file, \u001b[38;5;241m*\u001b[39margs, \u001b[38;5;241m*\u001b[39m\u001b[38;5;241m*\u001b[39mkwargs)\n",
      "\u001b[1;31mFileNotFoundError\u001b[0m: [Errno 2] No such file or directory: 'sarbesproject\\\\sarbesout.json'"
     ]
    }
   ],
   "source": [
    "with open(json_file_path, \"r\" , encoding = \"utf-8\") as f:\n",
    "    data = json.load(f)\n",
    "    data"
   ]
  },
  {
   "cell_type": "code",
   "execution_count": null,
   "id": "650b186e-c0f5-4ca1-8e71-39bb76540849",
   "metadata": {},
   "outputs": [],
   "source": []
  }
 ],
 "metadata": {
  "kernelspec": {
   "display_name": "Python [conda env:base] *",
   "language": "python",
   "name": "conda-base-py"
  },
  "language_info": {
   "codemirror_mode": {
    "name": "ipython",
    "version": 3
   },
   "file_extension": ".py",
   "mimetype": "text/x-python",
   "name": "python",
   "nbconvert_exporter": "python",
   "pygments_lexer": "ipython3",
   "version": "3.12.7"
  }
 },
 "nbformat": 4,
 "nbformat_minor": 5
}
