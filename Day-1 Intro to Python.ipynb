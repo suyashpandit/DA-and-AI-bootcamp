{
 "cells": [
  {
   "cell_type": "code",
   "execution_count": 3,
   "id": "3a81cc06-c902-4e0a-a828-c5f8a97cbcc5",
   "metadata": {},
   "outputs": [],
   "source": [
    "# spam is a memory location where you can store some values"
   ]
  },
  {
   "cell_type": "code",
   "execution_count": 1,
   "id": "4bbf68a8-103d-4c44-a054-c6dc6b229072",
   "metadata": {},
   "outputs": [],
   "source": [
    "spam = 1"
   ]
  },
  {
   "cell_type": "code",
   "execution_count": 6,
   "id": "41b433ce-7461-47fb-a06f-15d9d2a29e33",
   "metadata": {},
   "outputs": [
    {
     "data": {
      "text/plain": [
       "1"
      ]
     },
     "execution_count": 6,
     "metadata": {},
     "output_type": "execute_result"
    }
   ],
   "source": [
    "spam"
   ]
  },
  {
   "cell_type": "code",
   "execution_count": 7,
   "id": "81e23086-4c45-49ff-ab38-5fbdaca9f981",
   "metadata": {},
   "outputs": [
    {
     "data": {
      "text/plain": [
       "1"
      ]
     },
     "execution_count": 7,
     "metadata": {},
     "output_type": "execute_result"
    }
   ],
   "source": [
    "spam"
   ]
  },
  {
   "cell_type": "code",
   "execution_count": 8,
   "id": "3d1c0097-d254-4b99-a09c-c2357502afc8",
   "metadata": {},
   "outputs": [
    {
     "name": "stdout",
     "output_type": "stream",
     "text": [
      "1\n"
     ]
    }
   ],
   "source": [
    "print(spam)"
   ]
  },
  {
   "cell_type": "code",
   "execution_count": 10,
   "id": "d78e1e79-4d7a-48f4-8874-159da514f6ad",
   "metadata": {},
   "outputs": [
    {
     "name": "stdout",
     "output_type": "stream",
     "text": [
      "Suyash\n"
     ]
    }
   ],
   "source": [
    "print(\"Suyash\")"
   ]
  },
  {
   "cell_type": "code",
   "execution_count": 11,
   "id": "43653d22-6e8e-4b47-a2c5-26d8386a3c08",
   "metadata": {},
   "outputs": [
    {
     "data": {
      "text/plain": [
       "'Suyash'"
      ]
     },
     "execution_count": 11,
     "metadata": {},
     "output_type": "execute_result"
    }
   ],
   "source": [
    "spam"
   ]
  },
  {
   "cell_type": "code",
   "execution_count": 13,
   "id": "dc1871e7-e4c6-4d06-8557-9a03cf464eb5",
   "metadata": {},
   "outputs": [
    {
     "data": {
      "text/plain": [
       "'1'"
      ]
     },
     "execution_count": 13,
     "metadata": {},
     "output_type": "execute_result"
    }
   ],
   "source": [
    "spam"
   ]
  },
  {
   "cell_type": "code",
   "execution_count": 15,
   "id": "338d1669-90c2-484a-aa71-da3241b58d33",
   "metadata": {},
   "outputs": [
    {
     "data": {
      "text/plain": [
       "'Suyash'"
      ]
     },
     "execution_count": 15,
     "metadata": {},
     "output_type": "execute_result"
    }
   ],
   "source": [
    "spam"
   ]
  },
  {
   "cell_type": "code",
   "execution_count": 18,
   "id": "a01c9fc2-f4ac-4154-9d1d-8549aeed88e2",
   "metadata": {},
   "outputs": [],
   "source": [
    "spam = ('Suyash')"
   ]
  },
  {
   "cell_type": "code",
   "execution_count": 19,
   "id": "e5e55b95-3cb5-42fe-8e9c-b35b1bc3e816",
   "metadata": {},
   "outputs": [
    {
     "data": {
      "text/plain": [
       "'Suyash'"
      ]
     },
     "execution_count": 19,
     "metadata": {},
     "output_type": "execute_result"
    }
   ],
   "source": [
    "spam"
   ]
  },
  {
   "cell_type": "code",
   "execution_count": 2,
   "id": "5ac543ea-de79-4f64-8a75-4d29ec7d6985",
   "metadata": {},
   "outputs": [
    {
     "name": "stdout",
     "output_type": "stream",
     "text": [
      "SUyash\n"
     ]
    }
   ],
   "source": [
    "print (\"SUyash\")"
   ]
  },
  {
   "cell_type": "code",
   "execution_count": 21,
   "id": "93ce2cf0-a0eb-4100-b6ba-5637283578f6",
   "metadata": {},
   "outputs": [
    {
     "name": "stdout",
     "output_type": "stream",
     "text": [
      "Suyash\n"
     ]
    }
   ],
   "source": [
    "print (\"Suyash\")\n"
   ]
  },
  {
   "cell_type": "code",
   "execution_count": 22,
   "id": "4600f4af-6aca-4a64-92f8-a0c73b82a025",
   "metadata": {},
   "outputs": [],
   "source": [
    "str = \"Suyash\""
   ]
  },
  {
   "cell_type": "code",
   "execution_count": 23,
   "id": "e933eaf8-9e8d-45bc-9a81-410a52087c5e",
   "metadata": {},
   "outputs": [
    {
     "data": {
      "text/plain": [
       "'Suyash'"
      ]
     },
     "execution_count": 23,
     "metadata": {},
     "output_type": "execute_result"
    }
   ],
   "source": [
    "str"
   ]
  },
  {
   "cell_type": "code",
   "execution_count": 24,
   "id": "f9e9ffe9-c2c5-45be-b11c-f0a65aa384bc",
   "metadata": {},
   "outputs": [
    {
     "data": {
      "text/plain": [
       "'Suyash'"
      ]
     },
     "execution_count": 24,
     "metadata": {},
     "output_type": "execute_result"
    }
   ],
   "source": [
    "str = \"Suyash\"\n",
    "str"
   ]
  },
  {
   "cell_type": "code",
   "execution_count": 25,
   "id": "33f83d15-0e21-45a5-a707-46cb93d48222",
   "metadata": {},
   "outputs": [
    {
     "data": {
      "text/plain": [
       "56"
      ]
     },
     "execution_count": 25,
     "metadata": {},
     "output_type": "execute_result"
    }
   ],
   "source": [
    "54+2"
   ]
  },
  {
   "cell_type": "code",
   "execution_count": 26,
   "id": "6a352cf6-b652-4e95-a5fb-b0cc026e50a2",
   "metadata": {},
   "outputs": [
    {
     "data": {
      "text/plain": [
       "56"
      ]
     },
     "execution_count": 26,
     "metadata": {},
     "output_type": "execute_result"
    }
   ],
   "source": [
    "_"
   ]
  },
  {
   "cell_type": "code",
   "execution_count": 27,
   "id": "81ee56f5-f919-4700-bdab-f96f8070e678",
   "metadata": {},
   "outputs": [
    {
     "data": {
      "text/plain": [
       "2"
      ]
     },
     "execution_count": 27,
     "metadata": {},
     "output_type": "execute_result"
    }
   ],
   "source": [
    "27 % 5"
   ]
  },
  {
   "cell_type": "code",
   "execution_count": 29,
   "id": "d3bd777f-1cf3-4938-93ee-ede1b776042e",
   "metadata": {},
   "outputs": [
    {
     "data": {
      "text/plain": [
       "5"
      ]
     },
     "execution_count": 29,
     "metadata": {},
     "output_type": "execute_result"
    }
   ],
   "source": [
    "27 // 5"
   ]
  },
  {
   "cell_type": "code",
   "execution_count": 30,
   "id": "5e7bd9c0-5f07-43e9-9f52-f8a0dbfcb2b2",
   "metadata": {},
   "outputs": [
    {
     "data": {
      "text/plain": [
       "5.4"
      ]
     },
     "execution_count": 30,
     "metadata": {},
     "output_type": "execute_result"
    }
   ],
   "source": [
    "27 / 5"
   ]
  },
  {
   "cell_type": "code",
   "execution_count": 31,
   "id": "4f9731fa-ea8d-48e0-9e2c-94a68759540c",
   "metadata": {},
   "outputs": [
    {
     "data": {
      "text/plain": [
       "'suyash'"
      ]
     },
     "execution_count": 31,
     "metadata": {},
     "output_type": "execute_result"
    }
   ],
   "source": [
    "\"suyash\""
   ]
  },
  {
   "cell_type": "code",
   "execution_count": 32,
   "id": "fa2db645-ddf5-4a5d-8ab9-fd14735361e4",
   "metadata": {},
   "outputs": [],
   "source": [
    "a = 10"
   ]
  },
  {
   "cell_type": "code",
   "execution_count": 33,
   "id": "6cfbad9e-1867-4e1c-aca4-51d0133a8498",
   "metadata": {},
   "outputs": [
    {
     "data": {
      "text/plain": [
       "10"
      ]
     },
     "execution_count": 33,
     "metadata": {},
     "output_type": "execute_result"
    }
   ],
   "source": [
    "a"
   ]
  },
  {
   "cell_type": "code",
   "execution_count": 6,
   "id": "cb77dfbb-4ba8-4683-9d89-15cb8934829f",
   "metadata": {},
   "outputs": [],
   "source": [
    "alpha1 = \"2025\" "
   ]
  },
  {
   "cell_type": "code",
   "execution_count": 18,
   "id": "e0dbc789-b27e-4b10-bd64-72c7b0a090d3",
   "metadata": {},
   "outputs": [
    {
     "name": "stdout",
     "output_type": "stream",
     "text": [
      "The year is 2025 and the year predicted is 2030\n"
     ]
    }
   ],
   "source": [
    "alpha2 = \"2030\"\n",
    "\n",
    "print (f\"The year is {alpha1} and the year predicted is {alpha2}\")"
   ]
  },
  {
   "cell_type": "code",
   "execution_count": 17,
   "id": "0227ed26-6eba-457a-80ee-f74c87d43bca",
   "metadata": {},
   "outputs": [
    {
     "data": {
      "text/plain": [
       "'2025'"
      ]
     },
     "execution_count": 17,
     "metadata": {},
     "output_type": "execute_result"
    }
   ],
   "source": [
    "alpha1"
   ]
  },
  {
   "cell_type": "code",
   "execution_count": 45,
   "id": "e84eee3a-7fe8-431a-a395-f73377cab742",
   "metadata": {},
   "outputs": [],
   "source": [
    "num5 = 21"
   ]
  },
  {
   "cell_type": "code",
   "execution_count": 46,
   "id": "6c5eb2b9-73fa-4a2c-a4ba-5f0e3abc6055",
   "metadata": {},
   "outputs": [
    {
     "data": {
      "text/plain": [
       "1"
      ]
     },
     "execution_count": 46,
     "metadata": {},
     "output_type": "execute_result"
    }
   ],
   "source": [
    "num5 % 5"
   ]
  },
  {
   "cell_type": "code",
   "execution_count": 10,
   "id": "48ccb18a-489d-4879-a086-d9ddd25aeb71",
   "metadata": {},
   "outputs": [
    {
     "name": "stdout",
     "output_type": "stream",
     "text": [
      "The year is 2025 and the year predicted is 2030\n"
     ]
    }
   ],
   "source": [
    "print (f\"The year is {alpha1} and the year predicted is {alpha2}\")"
   ]
  },
  {
   "cell_type": "code",
   "execution_count": 20,
   "id": "ff94df2c-9473-41f9-996b-40b48749ef29",
   "metadata": {},
   "outputs": [
    {
     "ename": "TypeError",
     "evalue": "unsupported operand type(s) for -: 'str' and 'str'",
     "output_type": "error",
     "traceback": [
      "\u001b[1;31m---------------------------------------------------------------------------\u001b[0m",
      "\u001b[1;31mTypeError\u001b[0m                                 Traceback (most recent call last)",
      "Cell \u001b[1;32mIn[20], line 1\u001b[0m\n\u001b[1;32m----> 1\u001b[0m \u001b[38;5;28mprint\u001b[39m (\u001b[38;5;124mf\u001b[39m\u001b[38;5;124m\"\u001b[39m\u001b[38;5;124mThe year now is \u001b[39m\u001b[38;5;132;01m{\u001b[39;00malpha1\u001b[38;5;132;01m}\u001b[39;00m\u001b[38;5;124m and the year predicted to earn is \u001b[39m\u001b[38;5;132;01m{\u001b[39;00malpha2\u001b[38;5;132;01m}\u001b[39;00m\u001b[38;5;124m and the remaining year until earning is \u001b[39m\u001b[38;5;132;01m{\u001b[39;00malpha2\u001b[38;5;250m \u001b[39m\u001b[38;5;241m-\u001b[39m\u001b[38;5;250m \u001b[39malpha1\u001b[38;5;132;01m}\u001b[39;00m\u001b[38;5;124m\"\u001b[39m)\n",
      "\u001b[1;31mTypeError\u001b[0m: unsupported operand type(s) for -: 'str' and 'str'"
     ]
    }
   ],
   "source": [
    "print (f\"The year now is {alpha1} and the year predicted to earn is {alpha2} and the remaining year until earning is {alpha2 - alpha1}\")"
   ]
  },
  {
   "cell_type": "code",
   "execution_count": 19,
   "id": "5ebb46ae-ba22-4429-88e2-c41a3b759fba",
   "metadata": {},
   "outputs": [
    {
     "data": {
      "text/plain": [
       "'2025'"
      ]
     },
     "execution_count": 19,
     "metadata": {},
     "output_type": "execute_result"
    }
   ],
   "source": [
    "alpha1"
   ]
  },
  {
   "cell_type": "code",
   "execution_count": 21,
   "id": "90af3378-0a68-44b7-b9a4-d18d8045e54e",
   "metadata": {},
   "outputs": [],
   "source": [
    "# the mistake that I had been making is that I had assigned alpha1 and alpha2 as strings. "
   ]
  },
  {
   "cell_type": "code",
   "execution_count": 23,
   "id": "9f0f7546-488f-4e61-ba6c-5d7ea4308c0b",
   "metadata": {},
   "outputs": [
    {
     "name": "stdout",
     "output_type": "stream",
     "text": [
      "The year now is 2025 and the year predicted to earn is 2030 and the remaining year until earning is 5\n"
     ]
    }
   ],
   "source": [
    "#so changing it\n",
    "alpha1 = 2025\n",
    "alpha2 = 2030\n",
    "\n",
    "#now copying the same code that I tried to print earlier\n",
    "\n",
    "print (f\"The year now is {alpha1} and the year predicted to earn is {alpha2} and the remaining year until earning is {alpha2 - alpha1}\")"
   ]
  },
  {
   "cell_type": "code",
   "execution_count": null,
   "id": "289c553e-e2fe-462c-881b-bd889f69d4aa",
   "metadata": {},
   "outputs": [],
   "source": [
    "# Assigned them as integers without the \" \" signs and it printed"
   ]
  }
 ],
 "metadata": {
  "kernelspec": {
   "display_name": "Python [conda env:base] *",
   "language": "python",
   "name": "conda-base-py"
  },
  "language_info": {
   "codemirror_mode": {
    "name": "ipython",
    "version": 3
   },
   "file_extension": ".py",
   "mimetype": "text/x-python",
   "name": "python",
   "nbconvert_exporter": "python",
   "pygments_lexer": "ipython3",
   "version": "3.12.7"
  }
 },
 "nbformat": 4,
 "nbformat_minor": 5
}
