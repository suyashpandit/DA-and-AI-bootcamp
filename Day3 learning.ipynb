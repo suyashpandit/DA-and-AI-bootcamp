{
 "cells": [
  {
   "cell_type": "code",
   "execution_count": 4,
   "id": "9fe67fa9-aea1-4e4c-80f0-9f3db9617536",
   "metadata": {},
   "outputs": [],
   "source": [
    "#integers are whole numbers\n",
    "#with decimals are floats\n",
    "#strings double quotes for single line string and multi line string is by triple quotes like \"\"\"\n",
    "#booleans are true or false and are represented as bool\n",
    "#floating numbers can be with decimal numbers, negative and also scientific like 2.4e5 which is basically 24000. \n",
    "#relationship between bits and bytes. anything more than 10 TB is big data. 8 bits is one byte, 1024 bytes are 1 kb, 1024 kb are 1 mb, 1024 mb is 1gb, 1024 gb is 1tb.\n",
    "#python uses 64 bits that is 8 bytes(8 times 8)"
   ]
  },
  {
   "cell_type": "code",
   "execution_count": 8,
   "id": "c5834e02-0780-40e5-85b6-9b5cf7126f6f",
   "metadata": {},
   "outputs": [
    {
     "data": {
      "text/plain": [
       "(3, 4)"
      ]
     },
     "execution_count": 8,
     "metadata": {},
     "output_type": "execute_result"
    }
   ],
   "source": [
    "ratio = (0.75) .as_integer_ratio() #converting float to integer ratio coz 0.75 is three fourth\n",
    "ratio"
   ]
  },
  {
   "cell_type": "code",
   "execution_count": 114,
   "id": "c4748a49-9c5d-4e45-a5c1-722ea6a9e9eb",
   "metadata": {},
   "outputs": [
    {
     "name": "stdout",
     "output_type": "stream",
     "text": [
      "<class 'int'>\n"
     ]
    }
   ],
   "source": [
    "#python doesnt require type declaration for variables. it just changes as per what variable you assign to it. \n",
    "cap1=20\n",
    "print (type(cap1))"
   ]
  },
  {
   "cell_type": "code",
   "execution_count": 10,
   "id": "85b42948-675a-4964-861f-92fa347765e4",
   "metadata": {},
   "outputs": [],
   "source": [
    "cap2=44.23"
   ]
  },
  {
   "cell_type": "code",
   "execution_count": 11,
   "id": "2cd8068c-9775-459f-9b7f-875b9ca8163a",
   "metadata": {},
   "outputs": [
    {
     "data": {
      "text/plain": [
       "float"
      ]
     },
     "execution_count": 11,
     "metadata": {},
     "output_type": "execute_result"
    }
   ],
   "source": [
    "type(cap2)"
   ]
  },
  {
   "cell_type": "code",
   "execution_count": 12,
   "id": "0744038b-f324-41a0-8276-ca48a23bf9ba",
   "metadata": {},
   "outputs": [],
   "source": [
    "#python defines the type of variable based on the value you assign to the variable. other languages you have to declare variable beforehand"
   ]
  },
  {
   "cell_type": "code",
   "execution_count": 14,
   "id": "8a96bbe4-69dc-4fa0-8e70-c09a61fe3364",
   "metadata": {},
   "outputs": [
    {
     "data": {
      "text/plain": [
       "float"
      ]
     },
     "execution_count": 14,
     "metadata": {},
     "output_type": "execute_result"
    }
   ],
   "source": [
    "cap3=1.20e4\n",
    "type(cap3)"
   ]
  },
  {
   "cell_type": "code",
   "execution_count": 1,
   "id": "f1e0895d-6184-4bd6-9da4-15196dc925e3",
   "metadata": {},
   "outputs": [
    {
     "data": {
      "text/plain": [
       "str"
      ]
     },
     "execution_count": 1,
     "metadata": {},
     "output_type": "execute_result"
    }
   ],
   "source": [
    "cap4=\"datascience\"\n",
    "type(cap4)"
   ]
  },
  {
   "cell_type": "code",
   "execution_count": 111,
   "id": "3f2aaafe-bdf5-4a90-9696-23a6c4858d6e",
   "metadata": {},
   "outputs": [
    {
     "name": "stdin",
     "output_type": "stream",
     "text": [
      "Enter the age of the patient: 70\n"
     ]
    }
   ],
   "source": [
    "#looking for input from user for a specific type only\n",
    "\n",
    "Age=int(input(\"Enter the age of the patient:\"))"
   ]
  },
  {
   "cell_type": "code",
   "execution_count": 112,
   "id": "15702297-e2f0-41b2-b1c8-a9d1fb3be477",
   "metadata": {},
   "outputs": [
    {
     "name": "stdin",
     "output_type": "stream",
     "text": [
      "enter the age: 70.5\n"
     ]
    }
   ],
   "source": [
    "age = input(\"enter the age:\")"
   ]
  },
  {
   "cell_type": "code",
   "execution_count": 7,
   "id": "edceff4a-f04c-4194-b641-2e41b937b4ee",
   "metadata": {},
   "outputs": [
    {
     "name": "stdin",
     "output_type": "stream",
     "text": [
      "Enter the age of the patient: 55\n"
     ]
    }
   ],
   "source": [
    "#it is accepted above\n",
    "\n",
    "#now what happens if the user enters the integer\n",
    "\n",
    "Age=int(input(\"Enter the age of the patient:\"))"
   ]
  },
  {
   "cell_type": "code",
   "execution_count": 10,
   "id": "730b9941-d4ac-43a7-99a3-1ae9d59ba428",
   "metadata": {},
   "outputs": [
    {
     "name": "stdin",
     "output_type": "stream",
     "text": [
      "enter the percentage obtained in first semester: 72.49\n"
     ]
    }
   ],
   "source": [
    "#it works. lets do same but for float\n",
    "percent= float(input(\"enter the percentage obtained in first semester:\"))"
   ]
  },
  {
   "cell_type": "code",
   "execution_count": 11,
   "id": "a4abb96d-ad22-4618-bb8c-b8ec10a0b00f",
   "metadata": {},
   "outputs": [],
   "source": [
    "#all these words that are defined in python like input, print etc are called keywords - \n",
    "#avoid using them as keywords. eg do not use sum as variable. python keywords is in documentation. "
   ]
  },
  {
   "cell_type": "code",
   "execution_count": 18,
   "id": "9ab2d7aa-d472-434e-a13e-7d33bcbedc89",
   "metadata": {},
   "outputs": [
    {
     "data": {
      "text/plain": [
       "1492.8034"
      ]
     },
     "execution_count": 18,
     "metadata": {},
     "output_type": "execute_result"
    }
   ],
   "source": [
    "#learning to set precision of float numbers\n",
    "tax=26.98*55.33\n",
    "tax"
   ]
  },
  {
   "cell_type": "code",
   "execution_count": 20,
   "id": "d25ac652-de74-421f-8696-52ae55a8366b",
   "metadata": {},
   "outputs": [
    {
     "data": {
      "text/plain": [
       "'1492.80'"
      ]
     },
     "execution_count": 20,
     "metadata": {},
     "output_type": "execute_result"
    }
   ],
   "source": [
    "taxformatted=\"{:.2f}\".format(tax) #formatting to 2 decimal points\n",
    "taxformatted"
   ]
  },
  {
   "cell_type": "code",
   "execution_count": 41,
   "id": "9c692dee-8a7f-4d5b-969e-fe9e2ee4493e",
   "metadata": {},
   "outputs": [
    {
     "name": "stdin",
     "output_type": "stream",
     "text": [
      "enter the amount 88\n"
     ]
    }
   ],
   "source": [
    "#typecasting lesson\n",
    "#by default all inputs you take in python is a string example as below\n",
    "\n",
    "num1= input(\"enter the amount\")"
   ]
  },
  {
   "cell_type": "code",
   "execution_count": 36,
   "id": "9c14de26-0c89-4032-b6be-e6194881baa6",
   "metadata": {},
   "outputs": [
    {
     "data": {
      "text/plain": [
       "str"
      ]
     },
     "execution_count": 36,
     "metadata": {},
     "output_type": "execute_result"
    }
   ],
   "source": [
    "type(num1)"
   ]
  },
  {
   "cell_type": "code",
   "execution_count": 37,
   "id": "89e61d26-a312-41cb-bfb1-69dd79c6ba72",
   "metadata": {},
   "outputs": [
    {
     "data": {
      "text/plain": [
       "'88'"
      ]
     },
     "execution_count": 37,
     "metadata": {},
     "output_type": "execute_result"
    }
   ],
   "source": [
    "#that's why num1 is shown as string above. also notice how if i do num1, it will be in between quotes\n",
    "num1\n"
   ]
  },
  {
   "cell_type": "code",
   "execution_count": 38,
   "id": "35673618-14da-447e-b3e9-c11b8b84bb63",
   "metadata": {},
   "outputs": [
    {
     "data": {
      "text/plain": [
       "88"
      ]
     },
     "execution_count": 38,
     "metadata": {},
     "output_type": "execute_result"
    }
   ],
   "source": [
    "#only strings come in quote like above\n",
    "#converting string into integer\n",
    "num1 = int(num1)\n",
    "num1"
   ]
  },
  {
   "cell_type": "code",
   "execution_count": 40,
   "id": "b791ac04-e924-499f-8f75-cdc4f6b51e70",
   "metadata": {},
   "outputs": [
    {
     "name": "stdin",
     "output_type": "stream",
     "text": [
      "enter the amount 88.98\n"
     ]
    }
   ],
   "source": [
    "num2= input(\"enter the amount\")"
   ]
  },
  {
   "cell_type": "code",
   "execution_count": 42,
   "id": "3de386e1-d1fb-407f-8068-294a64ef53e1",
   "metadata": {},
   "outputs": [
    {
     "data": {
      "text/plain": [
       "str"
      ]
     },
     "execution_count": 42,
     "metadata": {},
     "output_type": "execute_result"
    }
   ],
   "source": [
    "type(num2)"
   ]
  },
  {
   "cell_type": "code",
   "execution_count": 45,
   "id": "70d11d75-8c08-41ab-94d7-d109df3ca9b6",
   "metadata": {},
   "outputs": [
    {
     "data": {
      "text/plain": [
       "88"
      ]
     },
     "execution_count": 45,
     "metadata": {},
     "output_type": "execute_result"
    }
   ],
   "source": [
    "#converting string to float due to decimal point and then to integer\n",
    "num2=int(float(num2))\n",
    "num2"
   ]
  },
  {
   "cell_type": "code",
   "execution_count": 49,
   "id": "db003a4b-0718-4563-a55b-2242cdbff623",
   "metadata": {},
   "outputs": [
    {
     "name": "stdout",
     "output_type": "stream",
     "text": [
      "conerted to int: 22\n",
      "converted to float: 55.0\n",
      "converted to str: 99\n"
     ]
    }
   ],
   "source": [
    "#convert float to int\n",
    "tax=22.97658\n",
    "tax_int=int(tax)\n",
    "print (\"conerted to int:\",tax_int)\n",
    "\n",
    "#convert int to float\n",
    "volume=55\n",
    "volume_float=float(volume)\n",
    "print (\"converted to float:\" ,volume_float)\n",
    "\n",
    "#convert int to str\n",
    "marks=99\n",
    "marks_str=str(marks)\n",
    "print(\"converted to str:\" ,marks_str)\n"
   ]
  },
  {
   "cell_type": "code",
   "execution_count": 75,
   "id": "ed9fe7b6-9323-4e49-bd12-d4ad3bb23c16",
   "metadata": {},
   "outputs": [
    {
     "name": "stdout",
     "output_type": "stream",
     "text": [
      "55.058\n",
      "87.23\n",
      "23.8892\n"
     ]
    }
   ],
   "source": [
    "#format floating point numbers to control the number of decimal places\n",
    "doc1=55.057692\n",
    "doc1_formatted=\"{:.3f}\".format(doc1)\n",
    "print(doc1_formatted)\n",
    "\n",
    "#another method\n",
    "doc2=87.23413251\n",
    "doc2_formatted=round(doc2,2)\n",
    "print(doc2_formatted)\n",
    "\n",
    "#another method\n",
    "doc3=23.8892303\n",
    "doc3_formatted= f\"{doc3:.4f}\"\n",
    "print(doc3_formatted)"
   ]
  },
  {
   "cell_type": "code",
   "execution_count": 84,
   "id": "68a42ba6-b086-4a3f-a01c-37daa54c2213",
   "metadata": {},
   "outputs": [
    {
     "name": "stdin",
     "output_type": "stream",
     "text": [
      "enter the age: 66\n"
     ]
    },
    {
     "name": "stdout",
     "output_type": "stream",
     "text": [
      "True\n"
     ]
    }
   ],
   "source": [
    "#checking if float has integer value\n",
    "\n",
    "age1=input(\"enter the age:\")\n",
    "age1 = float(age1)\n",
    "print (age1 .is_integer())"
   ]
  },
  {
   "cell_type": "code",
   "execution_count": 97,
   "id": "99fd8a1a-0665-4998-aabd-fd807fb98219",
   "metadata": {},
   "outputs": [
    {
     "name": "stdout",
     "output_type": "stream",
     "text": [
      "case1 is of type: <class 'bool'>\n"
     ]
    }
   ],
   "source": [
    "#Boolean\n",
    "case1=True\n",
    "print(\"case1 is of type:\", type(case1))"
   ]
  },
  {
   "cell_type": "code",
   "execution_count": 102,
   "id": "8880c907-3bbf-4821-ad6a-52e0ff8c7b01",
   "metadata": {},
   "outputs": [
    {
     "name": "stdout",
     "output_type": "stream",
     "text": [
      "7\n"
     ]
    }
   ],
   "source": [
    "#operators - bit length\n",
    "\n",
    "num1=55\n",
    "num2=45\n",
    "\n",
    "print ((num1+num2).bit_length())"
   ]
  },
  {
   "cell_type": "code",
   "execution_count": 103,
   "id": "bfd36631-2943-4ea0-a0d2-4d59aad28da1",
   "metadata": {},
   "outputs": [
    {
     "data": {
      "text/plain": [
       "7"
      ]
     },
     "execution_count": 103,
     "metadata": {},
     "output_type": "execute_result"
    }
   ],
   "source": [
    "(100).bit_length()"
   ]
  },
  {
   "cell_type": "code",
   "execution_count": 110,
   "id": "1e081637-8178-4fa5-b392-a10b07818fb7",
   "metadata": {},
   "outputs": [
    {
     "name": "stdout",
     "output_type": "stream",
     "text": [
      "Is prep1>0 and prep2>0? False\n",
      "Is prep1>0 or prep2>0? True\n",
      "Is prep2>0? True\n"
     ]
    }
   ],
   "source": [
    "#logical operations\n",
    "\n",
    "prep1=34\n",
    "prep2=-2\n",
    "\n",
    "print (\"Is prep1>0 and prep2>0?\", prep1>0 and prep2>0)\n",
    "print (\"Is prep1>0 or prep2>0?\", prep1>0 or prep2>0)\n",
    "print (\"Is prep2>0?\", not(prep2>0)) #not gives reverse result"
   ]
  },
  {
   "cell_type": "code",
   "execution_count": 141,
   "id": "9c1e1653-8da0-4eb5-97e1-28d040c2a909",
   "metadata": {},
   "outputs": [
    {
     "name": "stdout",
     "output_type": "stream",
     "text": [
      "10\n",
      "20\n",
      "30\n",
      "40\n",
      "50\n"
     ]
    }
   ],
   "source": [
    "#list is written in square brackets and value is separated by commas. \n",
    "#printing all numbers in a list\n",
    "\n",
    "numbers = [10,20,30,40,50] #these are list items which are ordered and are mutable - we can change it\n",
    "for num in numbers:\n",
    "    print (num)"
   ]
  },
  {
   "cell_type": "code",
   "execution_count": 151,
   "id": "da9abba4-b698-438a-87e6-14585276e209",
   "metadata": {},
   "outputs": [
    {
     "name": "stdout",
     "output_type": "stream",
     "text": [
      "0\n",
      "1\n",
      "2\n",
      "3\n",
      "4\n",
      "5\n",
      "6\n",
      "7\n",
      "8\n",
      "9\n",
      "10\n",
      "11\n",
      "12\n",
      "13\n",
      "14\n"
     ]
    }
   ],
   "source": [
    " #for loop with range\n",
    "for num1 in range (15):\n",
    "    print(num1)"
   ]
  },
  {
   "cell_type": "code",
   "execution_count": 146,
   "id": "8c8182bf-098a-4ff6-bdc7-75b2ff4e330a",
   "metadata": {},
   "outputs": [
    {
     "name": "stdout",
     "output_type": "stream",
     "text": [
      "1\n",
      "5\n",
      "9\n",
      "13\n",
      "17\n",
      "21\n"
     ]
    }
   ],
   "source": [
    "for num2 in range (1,22,4): #range(start, stop, skip)\n",
    "    print (num2) #prints 1, skips 4 indexes, goes to 5, skips 4 and so on"
   ]
  },
  {
   "cell_type": "code",
   "execution_count": 148,
   "id": "491ec770-d26a-4617-af8d-cc93af58fd97",
   "metadata": {},
   "outputs": [
    {
     "name": "stdout",
     "output_type": "stream",
     "text": [
      "100\n",
      "80\n",
      "60\n",
      "40\n",
      "20\n"
     ]
    }
   ],
   "source": [
    "#while loop - executes as long as the condition is true\n",
    "\n",
    "marks = 100 \n",
    "while marks> 10:\n",
    "    print (marks)\n",
    "    marks -= 20 #just means marks = marks-20"
   ]
  },
  {
   "cell_type": "code",
   "execution_count": 165,
   "id": "46c9f64c-53ef-4432-bd69-b09eea19e4c9",
   "metadata": {},
   "outputs": [
    {
     "name": "stdout",
     "output_type": "stream",
     "text": [
      "0\n",
      "1\n",
      "2\n",
      "3\n",
      "4\n",
      "5\n",
      "6\n",
      "gap here\n",
      "0\n",
      "2\n",
      "4\n",
      "6\n",
      "8\n"
     ]
    }
   ],
   "source": [
    "#breaking a loop\n",
    "for num in range(10): \n",
    "    if num == 7:\n",
    "        break\n",
    "    print(num)\n",
    "\n",
    "print(\"gap here\")\n",
    "\n",
    "#continuing a loop\n",
    "for num1 in range(10):\n",
    "    if num1%2!=0: #skipping odd numbers\n",
    "        continue #says dont break the loop but move to the next value\n",
    "    print(num1)"
   ]
  }
 ],
 "metadata": {
  "kernelspec": {
   "display_name": "Python [conda env:base] *",
   "language": "python",
   "name": "conda-base-py"
  },
  "language_info": {
   "codemirror_mode": {
    "name": "ipython",
    "version": 3
   },
   "file_extension": ".py",
   "mimetype": "text/x-python",
   "name": "python",
   "nbconvert_exporter": "python",
   "pygments_lexer": "ipython3",
   "version": "3.12.7"
  }
 },
 "nbformat": 4,
 "nbformat_minor": 5
}
