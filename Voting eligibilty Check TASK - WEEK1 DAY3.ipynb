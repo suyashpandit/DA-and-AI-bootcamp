{
 "cells": [
  {
   "cell_type": "code",
   "execution_count": 5,
   "id": "31cdaa99-aad0-4ce7-957d-e8eb44a663dd",
   "metadata": {},
   "outputs": [
    {
     "name": "stdin",
     "output_type": "stream",
     "text": [
      "Enter your age: 11.5\n"
     ]
    },
    {
     "name": "stdout",
     "output_type": "stream",
     "text": [
      "Age cannot be in decimals\n"
     ]
    }
   ],
   "source": [
    "#voting eligibility check #suyash day3 task\n",
    "\n",
    "age=float(input(\"Enter your age:\")) #the user may just put numbers in decimal\n",
    "if age.is_integer(): #checking if integer was entered\n",
    "    age=int(age)\n",
    "    if age>=18:\n",
    "        print(\"Congratulations! You are eligible to vote!\")\n",
    "    else:\n",
    "        print(\"You have\" ,(18-age), \"more years left to be eligible to vote.\")\n",
    "else:\n",
    " print (\"Age cannot be in decimals. Please enter a whole number.\")"
   ]
  },
  {
   "cell_type": "code",
   "execution_count": 6,
   "id": "934cd9b6-853a-4409-8d30-3b046c17604d",
   "metadata": {},
   "outputs": [
    {
     "name": "stdin",
     "output_type": "stream",
     "text": [
      "Enter your age: 12\n"
     ]
    },
    {
     "name": "stdout",
     "output_type": "stream",
     "text": [
      "You have 6 more years left to be eligible to vote.\n"
     ]
    }
   ],
   "source": [
    "#voting eligibility check #suyash day3 task\n",
    "\n",
    "age=float(input(\"Enter your age:\")) #the user may just put numbers in decimal\n",
    "if age.is_integer(): #checking if integer was entered\n",
    "    age=int(age)\n",
    "    if age>=18:\n",
    "        print(\"Congratulations! You are eligible to vote!\")\n",
    "    else:\n",
    "        print(\"You have\" ,(18-age), \"more years left to be eligible to vote.\")\n",
    "else:\n",
    " print (\"Age cannot be in decimals. Please enter a whole number.\")"
   ]
  },
  {
   "cell_type": "code",
   "execution_count": 7,
   "id": "3d37746d-929d-4ec9-a053-07e994482c12",
   "metadata": {},
   "outputs": [
    {
     "name": "stdin",
     "output_type": "stream",
     "text": [
      "Enter your age: 20\n"
     ]
    },
    {
     "name": "stdout",
     "output_type": "stream",
     "text": [
      "Congratulations! You are eligible to vote!\n"
     ]
    }
   ],
   "source": [
    "#voting eligibility check #suyash day3 task\n",
    "\n",
    "age=float(input(\"Enter your age:\")) #the user may just put numbers in decimal\n",
    "if age.is_integer(): #checking if integer was entered\n",
    "    age=int(age)\n",
    "    if age>=18:\n",
    "        print(\"Congratulations! You are eligible to vote!\")\n",
    "    else:\n",
    "        print(\"You have\" ,(18-age), \"more years left to be eligible to vote.\")\n",
    "else:\n",
    " print (\"Age cannot be in decimals. Please enter a whole number.\")"
   ]
  }
 ],
 "metadata": {
  "kernelspec": {
   "display_name": "Python [conda env:base] *",
   "language": "python",
   "name": "conda-base-py"
  },
  "language_info": {
   "codemirror_mode": {
    "name": "ipython",
    "version": 3
   },
   "file_extension": ".py",
   "mimetype": "text/x-python",
   "name": "python",
   "nbconvert_exporter": "python",
   "pygments_lexer": "ipython3",
   "version": "3.12.7"
  }
 },
 "nbformat": 4,
 "nbformat_minor": 5
}
