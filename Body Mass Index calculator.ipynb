{
 "cells": [
  {
   "cell_type": "code",
   "execution_count": 2,
   "id": "44a72982-7e98-4578-ba67-7f9293d883fc",
   "metadata": {},
   "outputs": [
    {
     "name": "stdin",
     "output_type": "stream",
     "text": [
      "Enter weight in kg:  64\n",
      "Enter height in cm:  180\n"
     ]
    },
    {
     "name": "stdout",
     "output_type": "stream",
     "text": [
      "BMI: 19.75\n",
      "Category: Normal\n"
     ]
    }
   ],
   "source": [
    "# Input\n",
    "weight = float(input(\"Enter weight in kg: \"))\n",
    "height_cm = float(input(\"Enter height in cm: \"))\n",
    "\n",
    "# Convert height to meters\n",
    "height_m = height_cm / 100\n",
    "\n",
    "# Calculate BMI\n",
    "bmi = weight / (height_m ** 2)\n",
    "\n",
    "# Determine category\n",
    "if bmi < 18.5:\n",
    "    category = \"Underweight\"\n",
    "elif bmi < 25:\n",
    "    category = \"Normal\"\n",
    "elif bmi < 30:\n",
    "    category = \"Overweight\"\n",
    "else:\n",
    "    category = \"Obese\"\n",
    "\n",
    "# Output\n",
    "print(\"BMI:\", round(bmi, 2))\n",
    "print(\"Category:\", category)"
   ]
  }
 ],
 "metadata": {
  "kernelspec": {
   "display_name": "Python [conda env:base] *",
   "language": "python",
   "name": "conda-base-py"
  },
  "language_info": {
   "codemirror_mode": {
    "name": "ipython",
    "version": 3
   },
   "file_extension": ".py",
   "mimetype": "text/x-python",
   "name": "python",
   "nbconvert_exporter": "python",
   "pygments_lexer": "ipython3",
   "version": "3.12.7"
  }
 },
 "nbformat": 4,
 "nbformat_minor": 5
}
