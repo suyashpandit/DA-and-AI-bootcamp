{
 "cells": [
  {
   "cell_type": "code",
   "execution_count": 8,
   "id": "1baa4872-9083-4bed-91b2-6ae36652e686",
   "metadata": {},
   "outputs": [
    {
     "name": "stdout",
     "output_type": "stream",
     "text": [
      "Welcome to rock, paper or scissors developed by Suyash.\n"
     ]
    },
    {
     "name": "stdin",
     "output_type": "stream",
     "text": [
      "Enter rock, paper, or scissors: SciSSOR\n"
     ]
    },
    {
     "name": "stdout",
     "output_type": "stream",
     "text": [
      "You chose scissor and computer chose paper, you win.\n"
     ]
    }
   ],
   "source": [
    "import random\n",
    "\n",
    "choices = [\"rock\", \"paper\", \"scissors\"] #defining choices\n",
    "computer_choice = random.choice(choices)\n",
    "print(\"Welcome to rock, paper or scissors developed by Suyash.\")\n",
    "player_choice = input(\"Enter rock, paper, or scissors:\").lower() #input is all changed to lowercase\n",
    "if player_choice == computer_choice:\n",
    "    print (\"Both you and computer chose,(player_choice). It's a tie.\")\n",
    "elif (player_choice==\"rock\" and computer_choice ==\"paper\") or (player_choice==\"paper\" and computer_choice==\"scissor\") or (player_choice==\"scissor\" and computer_choice==\"rock\"):\n",
    "    print(f\"You chose {player_choice} and computer chose {computer_choice}, you lose.\")\n",
    "else:\n",
    "    print(f\"You chose {player_choice} and computer chose {computer_choice}, you win.\")"
   ]
  }
 ],
 "metadata": {
  "kernelspec": {
   "display_name": "Python [conda env:base] *",
   "language": "python",
   "name": "conda-base-py"
  },
  "language_info": {
   "codemirror_mode": {
    "name": "ipython",
    "version": 3
   },
   "file_extension": ".py",
   "mimetype": "text/x-python",
   "name": "python",
   "nbconvert_exporter": "python",
   "pygments_lexer": "ipython3",
   "version": "3.12.7"
  }
 },
 "nbformat": 4,
 "nbformat_minor": 5
}
